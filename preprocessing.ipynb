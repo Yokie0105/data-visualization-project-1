{
 "cells": [
  {
   "cell_type": "code",
   "execution_count": 151,
   "metadata": {},
   "outputs": [],
   "source": [
    "import pandas as pd"
   ]
  },
  {
   "cell_type": "code",
   "execution_count": 156,
   "metadata": {},
   "outputs": [
    {
     "name": "stdout",
     "output_type": "stream",
     "text": []
    }
   ],
   "source": [
    "feeding_data = pd.read_csv(r\"C:\\Users\\sarah\\OneDrive - KU Leuven\\Desktop\\Data Visualization\\Project\\data\\Exp1 - Feeding data.csv\")\n",
    "feeding_data.head()"
   ]
  },
  {
   "cell_type": "code",
   "execution_count": 157,
   "metadata": {},
   "outputs": [
    {
     "name": "stdout",
     "output_type": "stream",
     "text": []
    }
   ],
   "source": [
    "pigs_data = pd.read_csv(r\"C:\\Users\\sarah\\OneDrive - KU Leuven\\Desktop\\Data Visualization\\Project\\data\\Exp1 - Pig registration all info combined.csv\")\n",
    "pigs_data.head()"
   ]
  },
  {
   "cell_type": "code",
   "execution_count": 158,
   "metadata": {},
   "outputs": [
    {
     "name": "stdout",
     "output_type": "stream",
     "text": []
    }
   ],
   "source": [
    "## DATA CLEANING\n",
    "\n",
    "# Delete the rows where 'pig' = 0 or where 'pig' from feeding_data is not in 'pig' from pigs\n",
    "feeding_data = feeding_data[feeding_data['pig'] != 0]\n",
    "feeding_data = feeding_data[feeding_data['pig'].isin(pigs_data['pig'])]\n",
    "\n",
    "# Delete rows where at least one of 'intake', 'duration' or 'rate' contain negative values\n",
    "feeding_data = feeding_data[(feeding_data['intake'] >= 0) & (feeding_data['duration'] >= 0) & (feeding_data['rate'] >= 0)]\n",
    "\n",
    "# Convert 'date', 'start' and 'end' columns to datetime\n",
    "feeding_data['date'] = pd.to_datetime(feeding_data['date'])\n",
    "feeding_data['start'] = pd.to_datetime(feeding_data['start'])\n",
    "feeding_data['end'] = pd.to_datetime(feeding_data['end'])\n",
    "\n",
    "# Add an index column to preserve the original order\n",
    "feeding_data['original_index'] = feeding_data.index\n",
    "\n",
    "## VARIABLES PER PIG\n",
    "\n",
    "# Calculate the total intake per pig \n",
    "feeding_data['tot_intake_pig'] = feeding_data.groupby(['pig'])['intake'].transform('sum')\n",
    "\n",
    "# Calculate the total intake per pig per day\n",
    "feeding_data['tot_intake_day_pig'] = feeding_data.groupby(['pig', 'date'])['intake'].transform('sum')\n",
    "\n",
    "# Calculate the average rate per pig per day\n",
    "feeding_data['avg_rate_day_pig'] = feeding_data.groupby(['pig', 'date'])['rate'].transform('mean')\n",
    "\n",
    "# Calculate the average duration per pig per day\n",
    "feeding_data['avg_duration_day_pig'] = feeding_data.groupby(['pig', 'date'])['duration'].transform('mean')\n",
    "\n",
    "# Calculate the total intake per pig per hour\n",
    "feeding_data['tot_intake_hour_pig'] = feeding_data.groupby(['pig', 'date', 'hour'])['intake'].transform('sum')\n",
    "\n",
    "# Calculate the average rate per pig per hour\n",
    "feeding_data['avg_rate_hour_pig'] = feeding_data.groupby(['pig', 'date', 'hour'])['rate'].transform('mean')\n",
    "\n",
    "# Calculate the average duration per pig per hour\n",
    "feeding_data['avg_duration_hour_pig'] = feeding_data.groupby(['pig', 'date', 'hour'])['duration'].transform('mean')\n",
    "\n",
    "## VARIABLES PER STATION\n",
    "\n",
    "# Calculate the total intake per station \n",
    "feeding_data['tot_intake_station'] = feeding_data.groupby(['station'])['intake'].transform('sum')\n",
    "\n",
    "# Calculate the total intake per station per day\n",
    "feeding_data['tot_intake_day_station'] = feeding_data.groupby(['station', 'date'])['intake'].transform('sum')\n",
    "\n",
    "# Calculate the average rate per station per day\n",
    "feeding_data['avg_rate_day_station'] = feeding_data.groupby(['station', 'date'])['rate'].transform('mean')\n",
    "\n",
    "# Calculate the average duration per station per day\n",
    "feeding_data['avg_duration_day_station'] = feeding_data.groupby(['station', 'date'])['duration'].transform('mean')\n",
    "\n",
    "# Calculate the total intake per station per hour\n",
    "feeding_data['tot_intake_hour_station'] = feeding_data.groupby(['station', 'date', 'hour'])['intake'].transform('sum')\n",
    "\n",
    "# Calculate the average rate per station per hour\n",
    "feeding_data['avg_rate_hour_station'] = feeding_data.groupby(['station', 'date', 'hour'])['rate'].transform('mean')\n",
    "\n",
    "# Calculate the average duration per station per hour\n",
    "feeding_data['avg_duration_hour_station'] = feeding_data.groupby(['station', 'date', 'hour'])['duration'].transform('mean')\n",
    "\n",
    "# Display the first few rows of the updated DataFrame\n",
    "feeding_data.head()"
   ]
  },
  {
   "cell_type": "code",
   "execution_count": 159,
   "metadata": {},
   "outputs": [
    {
     "name": "stdout",
     "output_type": "stream",
     "text": []
    }
   ],
   "source": [
    "# BEFORE/AFTER VARIABLES \n",
    "\n",
    "# Calculate the time before and after in seconds\n",
    "feeding_data['time_before'] = (feeding_data['start'] - feeding_data['end'].shift(1)).dt.total_seconds()\n",
    "feeding_data['time_after'] = (feeding_data['start'].shift(-1) - feeding_data['end']).dt.total_seconds()\n",
    "\n",
    "## BEFORE/AFTER VARIABLES PER PIG\n",
    "\n",
    "# Sorting per pig and start time\n",
    "feeding_data = feeding_data.sort_values(by=['pig', 'start'], ascending=True)\n",
    "\n",
    "# Shift the 'pig' column to compare with the current row\n",
    "feeding_data['h_pig_before'] = feeding_data['pig'].shift(1)\n",
    "feeding_data['h_pig_after'] = feeding_data['pig'].shift(-1)\n",
    "\n",
    "# Calculate the time before and after in seconds per pig\n",
    "feeding_data['time_before_pig'] = (feeding_data['start'] - feeding_data['end'].shift(1)).dt.total_seconds()\n",
    "feeding_data['time_after_pig'] = (feeding_data['start'].shift(-1) - feeding_data['end']).dt.total_seconds()\n",
    "feeding_data['time_before_pig'] = feeding_data.apply(lambda row: int(row['time_before_pig']) if row['pig'] == row['h_pig_before'] else '', axis=1)\n",
    "feeding_data['time_after_pig'] = feeding_data.apply(lambda row: int(row['time_after_pig']) if row['pig'] == row['h_pig_after'] else '', axis=1)\n",
    "\n",
    "# Drop the helper columns\n",
    "feeding_data = feeding_data.drop(columns=['h_pig_before', 'h_pig_after'])\n",
    "\n",
    "## BEFORE/AFTER VARIABLES PER STATION\n",
    "\n",
    "# Sorting per station and start time\n",
    "feeding_data = feeding_data.sort_values(by=['station', 'start'], ascending=True)\n",
    "\n",
    "# Shift the 'station' column to compare with the current row\n",
    "feeding_data['h_station_before'] = feeding_data['station'].shift(1)\n",
    "feeding_data['h_station_after'] = feeding_data['station'].shift(-1)\n",
    "\n",
    "# Calculate the time before and after in seconds per station\n",
    "feeding_data['time_before_station'] = (feeding_data['start'] - feeding_data['end'].shift(1)).dt.total_seconds()\n",
    "feeding_data['time_after_station'] = (feeding_data['start'].shift(-1) - feeding_data['end']).dt.total_seconds()\n",
    "feeding_data['time_before_station'] = feeding_data.apply(lambda row: int(row['time_before_station']) if row['station'] == row['h_station_before'] else '', axis=1)\n",
    "feeding_data['time_after_station'] = feeding_data.apply(lambda row: int(row['time_after_station']) if row['station'] == row['h_station_after'] else '', axis=1)\n",
    "\n",
    "# Get the pig before and after per station\n",
    "feeding_data['pig_before_station'] = feeding_data['pig'].shift(1)\n",
    "feeding_data['pig_after_station'] = feeding_data['pig'].shift(-1)\n",
    "feeding_data['pig_before_station'] = feeding_data.apply(lambda row: int(row['pig_before_station']) if row['station'] == row['h_station_before'] else '', axis=1)\n",
    "feeding_data['pig_after_station'] = feeding_data.apply(lambda row: int(row['pig_after_station']) if row['station'] == row['h_station_after'] else '', axis=1)\n",
    "\n",
    "# Create pig_index column \n",
    "feeding_data = feeding_data.merge(pigs_data[['pig', 'pig_index']], on='pig', how='left')\n",
    "\n",
    "# Get the pig before and after per station\n",
    "feeding_data['pig_before_index'] = feeding_data['pig_index'].shift(1)\n",
    "feeding_data['pig_after_index'] = feeding_data['pig_index'].shift(-1)\n",
    "feeding_data['pig_before_index'] = feeding_data.apply(lambda row: int(row['pig_before_index']) if row['station'] == row['h_station_before'] else '', axis=1)\n",
    "feeding_data['pig_after_index'] = feeding_data.apply(lambda row: int(row['pig_after_index']) if row['station'] == row['h_station_after'] else '', axis=1)\n",
    "\n",
    "# Drop the helper columns\n",
    "feeding_data = feeding_data.drop(columns=['h_station_before', 'h_station_after'])\n",
    "\n",
    "# Convert columns to numeric and round\n",
    "feeding_data['time_before'] = pd.to_numeric(feeding_data['time_before'], errors='coerce')\n",
    "feeding_data['time_after'] = pd.to_numeric(feeding_data['time_after'], errors='coerce')\n",
    "feeding_data['time_before'] = feeding_data['time_before'].round()\n",
    "feeding_data['time_after'] = feeding_data['time_after'].round()\n",
    "feeding_data['time_before_pig'] = pd.to_numeric(feeding_data['time_before_pig'], errors='coerce')\n",
    "feeding_data['time_after_pig'] = pd.to_numeric(feeding_data['time_after_pig'], errors='coerce')\n",
    "feeding_data['time_before_pig'] = feeding_data['time_before_pig'].round()\n",
    "feeding_data['time_after_pig'] = feeding_data['time_after_pig'].round()\n",
    "feeding_data['time_before_station'] = pd.to_numeric(feeding_data['time_before_station'], errors='coerce')\n",
    "feeding_data['time_after_station'] = pd.to_numeric(feeding_data['time_after_station'], errors='coerce')\n",
    "feeding_data['time_before_station'] = feeding_data['time_before_station'].round()\n",
    "feeding_data['time_after_station'] = feeding_data['time_after_station'].round()\n",
    "feeding_data['pig_before_station'] = feeding_data['pig_before_station'].astype('int64', errors='ignore')\n",
    "feeding_data['pig_after_station'] = feeding_data['pig_after_station'].astype('int64', errors='ignore')\n",
    "feeding_data['pig_before_station'] = feeding_data['pig_before_station'].round()\n",
    "feeding_data['pig_after_station'] = feeding_data['pig_after_station'].round()\n",
    "\n",
    "# Remove negative values by setting them to NaN\n",
    "feeding_data['time_before'] = feeding_data['time_before'].where(feeding_data['time_before'] >= 0)\n",
    "feeding_data['time_after'] = feeding_data['time_after'].where(feeding_data['time_after'] >= 0)\n",
    "feeding_data['time_before_pig'] = feeding_data['time_before_pig'].where(feeding_data['time_before_pig'] >= 0)\n",
    "feeding_data['time_after_pig'] = feeding_data['time_after_pig'].where(feeding_data['time_after_pig'] >= 0)\n",
    "feeding_data['time_before_station'] = feeding_data['time_before_station'].where(feeding_data['time_before_station'] >= 0)\n",
    "feeding_data['time_after_station'] = feeding_data['time_after_station'].where(feeding_data['time_after_station'] >= 0)\n",
    "\n",
    "# Restore the original order\n",
    "feeding_data = feeding_data.sort_values(by=['original_index'])\n",
    "\n",
    "# Drop the index column\n",
    "feeding_data = feeding_data.drop(columns=['original_index'])\n",
    "\n",
    "# Display the first few rows of the updated DataFrame\n",
    "feeding_data.head()"
   ]
  },
  {
   "cell_type": "code",
   "execution_count": 160,
   "metadata": {},
   "outputs": [],
   "source": [
    "# Write the DataFrame to a CSV file\n",
    "feeding_data.to_csv(r\"C:\\Users\\sarah\\OneDrive - KU Leuven\\Desktop\\Data Visualization\\Project\\data\\feeding_data.csv\", index=False)"
   ]
  }
 ],
 "metadata": {
  "kernelspec": {
   "display_name": "Python 3",
   "language": "python",
   "name": "python3"
  },
  "language_info": {
   "codemirror_mode": {
    "name": "ipython",
    "version": 3
   },
   "file_extension": ".py",
   "mimetype": "text/x-python",
   "name": "python",
   "nbconvert_exporter": "python",
   "pygments_lexer": "ipython3",
   "version": "3.9.13"
  }
 },
 "nbformat": 4,
 "nbformat_minor": 2
}
